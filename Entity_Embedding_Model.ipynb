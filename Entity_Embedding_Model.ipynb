{
 "cells": [
  {
   "cell_type": "code",
   "execution_count": 701,
   "metadata": {},
   "outputs": [
    {
     "data": {
      "text/html": [
       "<script>\n",
       "code_show=true; \n",
       "function code_toggle() {\n",
       " if (code_show){\n",
       " $('div.input').hide();\n",
       " } else {\n",
       " $('div.input').show();\n",
       " }\n",
       " code_show = !code_show\n",
       "} \n",
       "$( document ).ready(code_toggle);\n",
       "</script>\n",
       "The raw code for this notebook is by default hidden for easier reading.\n",
       "To toggle on/off the raw code, click <a href=\"javascript:code_toggle()\">here</a>."
      ],
      "text/plain": [
       "<IPython.core.display.HTML object>"
      ]
     },
     "execution_count": 701,
     "metadata": {},
     "output_type": "execute_result"
    }
   ],
   "source": [
    "from IPython.display import HTML\n",
    "\n",
    "HTML('''<script>\n",
    "code_show=true; \n",
    "function code_toggle() {\n",
    " if (code_show){\n",
    " $('div.input').hide();\n",
    " } else {\n",
    " $('div.input').show();\n",
    " }\n",
    " code_show = !code_show\n",
    "} \n",
    "$( document ).ready(code_toggle);\n",
    "</script>\n",
    "The raw code for this notebook is by default hidden for easier reading.\n",
    "To toggle on/off the raw code, click <a href=\"javascript:code_toggle()\">here</a>.''')"
   ]
  },
  {
   "cell_type": "markdown",
   "metadata": {},
   "source": [
    "# Using Deep Learning to predict Rossmann store sales"
   ]
  },
  {
   "cell_type": "markdown",
   "metadata": {},
   "source": [
    "*by Johannes Bock, 21 October 2017*"
   ]
  },
  {
   "cell_type": "markdown",
   "metadata": {},
   "source": [
    "Most of the focus in the deep learning community is around computer-vision and NLP tasks, which mostly deal with unstructured data. However, most of the data in industry is structured data and to my knowledge only little effort has been made to develop successful neural network architectures for these practical structured data problems.\n",
    "\n",
    "In the following notebook I will apply deep learning to a real-world business problem using structured data. To achieve state-of-the-art performance I will implement my version of the [Entity Embeddings model](https://arxiv.org/abs/1604.06737) proposed by Guo and Berkhahn (2016) in the [Rossman competition on Kaggle](https://www.kaggle.com/c/rossmann-store-sales). Their approach is a very interesting idea inspired by semantic embeddings from the natural language processing domain (also see: [Distributional semantics](https://en.wikipedia.org/wiki/Distributional_semantics), [Word embedding](https://en.wikipedia.org/wiki/Word_embedding) or [Word2vec](https://en.wikipedia.org/wiki/Word2vec))."
   ]
  },
  {
   "cell_type": "markdown",
   "metadata": {},
   "source": [
    "**Project overview**\n",
    "\n",
    "To achieve state-of-the-art performance on this prediction problem I will go through the following steps (not necessarily in that strict order, but rather iteratively):\n",
    "\n",
    "1. Load & merge multiple data sources\n",
    "1. Data pre-processing\n",
    "    * Explore & transform the target variable\n",
    "    * Missing data\n",
    "    * Data scaling and normalization\n",
    "    * Feature encoding\n",
    "    * Feature engineering & selection\n",
    "2. Deep Learning model definition\n",
    "3. Model training\n",
    "4. Bayesian hyperparameter tuning\n",
    "5. Model ensembling\n",
    "6. Model evaluation & testing\n",
    "7. Model inspection\n",
    "    * Visualize learned entity embeddings"
   ]
  },
  {
   "cell_type": "markdown",
   "metadata": {},
   "source": [
    "## Rossmann store sales data"
   ]
  },
  {
   "cell_type": "markdown",
   "metadata": {},
   "source": [
    "The training data is being provided on the [Kaggle platform](https://www.kaggle.com/c/rossmann-store-sales/data). The dataset contains daily data over a period of a little bit less than 3 years for 1,115 Rossmann stores located across Germany. The challenge is to forecast daily store sales for each individual store. As store sales are influenced by many factors, including promotions, competition, school and state holidays, seasonality, and locality, the dataset contains about 45 features to account for these. In addition to the provided data, I will be using external datasets put together by participants in the Kaggle competition (i.e. Google search data, weather data etc.)."
   ]
  },
  {
   "cell_type": "markdown",
   "metadata": {},
   "source": [
    "### Load and merge datasets"
   ]
  },
  {
   "cell_type": "markdown",
   "metadata": {},
   "source": [
    "Since multiple data sources for weather, google search or competition data will be used, I will first merge all of them into one single dataframe."
   ]
  },
  {
   "cell_type": "code",
   "execution_count": 2,
   "metadata": {
    "scrolled": false
   },
   "outputs": [
    {
     "data": {
      "text/html": [
       "<div>\n",
       "<style>\n",
       "    .dataframe thead tr:only-child th {\n",
       "        text-align: right;\n",
       "    }\n",
       "\n",
       "    .dataframe thead th {\n",
       "        text-align: left;\n",
       "    }\n",
       "\n",
       "    .dataframe tbody tr th {\n",
       "        vertical-align: top;\n",
       "    }\n",
       "</style>\n",
       "<table border=\"1\" class=\"dataframe\">\n",
       "  <thead>\n",
       "    <tr style=\"text-align: right;\">\n",
       "      <th></th>\n",
       "      <th>Store</th>\n",
       "      <th>DayOfWeek</th>\n",
       "      <th>Date</th>\n",
       "      <th>Sales</th>\n",
       "      <th>Customers</th>\n",
       "      <th>Open</th>\n",
       "      <th>Promo</th>\n",
       "      <th>StateHoliday</th>\n",
       "      <th>SchoolHoliday</th>\n",
       "      <th>State</th>\n",
       "      <th>...</th>\n",
       "      <th>Max_VisibilityKm</th>\n",
       "      <th>Mean_VisibilityKm</th>\n",
       "      <th>Min_VisibilitykM</th>\n",
       "      <th>Max_Wind_SpeedKm_h</th>\n",
       "      <th>Mean_Wind_SpeedKm_h</th>\n",
       "      <th>Max_Gust_SpeedKm_h</th>\n",
       "      <th>Precipitationmm</th>\n",
       "      <th>CloudCover</th>\n",
       "      <th>Events</th>\n",
       "      <th>WindDirDegrees</th>\n",
       "    </tr>\n",
       "    <tr>\n",
       "      <th>Date</th>\n",
       "      <th></th>\n",
       "      <th></th>\n",
       "      <th></th>\n",
       "      <th></th>\n",
       "      <th></th>\n",
       "      <th></th>\n",
       "      <th></th>\n",
       "      <th></th>\n",
       "      <th></th>\n",
       "      <th></th>\n",
       "      <th></th>\n",
       "      <th></th>\n",
       "      <th></th>\n",
       "      <th></th>\n",
       "      <th></th>\n",
       "      <th></th>\n",
       "      <th></th>\n",
       "      <th></th>\n",
       "      <th></th>\n",
       "      <th></th>\n",
       "      <th></th>\n",
       "    </tr>\n",
       "  </thead>\n",
       "  <tbody>\n",
       "    <tr>\n",
       "      <th>2015-07-31</th>\n",
       "      <td>1</td>\n",
       "      <td>5</td>\n",
       "      <td>2015-07-31</td>\n",
       "      <td>5263</td>\n",
       "      <td>555</td>\n",
       "      <td>1</td>\n",
       "      <td>1</td>\n",
       "      <td>0</td>\n",
       "      <td>1</td>\n",
       "      <td>HE</td>\n",
       "      <td>...</td>\n",
       "      <td>31.0</td>\n",
       "      <td>15.0</td>\n",
       "      <td>10.0</td>\n",
       "      <td>24</td>\n",
       "      <td>11</td>\n",
       "      <td>NaN</td>\n",
       "      <td>0.0</td>\n",
       "      <td>1.0</td>\n",
       "      <td>Fog</td>\n",
       "      <td>13</td>\n",
       "    </tr>\n",
       "    <tr>\n",
       "      <th>2015-07-31</th>\n",
       "      <td>2</td>\n",
       "      <td>5</td>\n",
       "      <td>2015-07-31</td>\n",
       "      <td>6064</td>\n",
       "      <td>625</td>\n",
       "      <td>1</td>\n",
       "      <td>1</td>\n",
       "      <td>0</td>\n",
       "      <td>1</td>\n",
       "      <td>TH</td>\n",
       "      <td>...</td>\n",
       "      <td>10.0</td>\n",
       "      <td>10.0</td>\n",
       "      <td>10.0</td>\n",
       "      <td>14</td>\n",
       "      <td>11</td>\n",
       "      <td>NaN</td>\n",
       "      <td>0.0</td>\n",
       "      <td>4.0</td>\n",
       "      <td>Fog</td>\n",
       "      <td>309</td>\n",
       "    </tr>\n",
       "    <tr>\n",
       "      <th>2015-07-31</th>\n",
       "      <td>3</td>\n",
       "      <td>5</td>\n",
       "      <td>2015-07-31</td>\n",
       "      <td>8314</td>\n",
       "      <td>821</td>\n",
       "      <td>1</td>\n",
       "      <td>1</td>\n",
       "      <td>0</td>\n",
       "      <td>1</td>\n",
       "      <td>NW</td>\n",
       "      <td>...</td>\n",
       "      <td>31.0</td>\n",
       "      <td>14.0</td>\n",
       "      <td>10.0</td>\n",
       "      <td>14</td>\n",
       "      <td>5</td>\n",
       "      <td>NaN</td>\n",
       "      <td>0.0</td>\n",
       "      <td>2.0</td>\n",
       "      <td>Fog</td>\n",
       "      <td>354</td>\n",
       "    </tr>\n",
       "    <tr>\n",
       "      <th>2015-07-31</th>\n",
       "      <td>4</td>\n",
       "      <td>5</td>\n",
       "      <td>2015-07-31</td>\n",
       "      <td>13995</td>\n",
       "      <td>1498</td>\n",
       "      <td>1</td>\n",
       "      <td>1</td>\n",
       "      <td>0</td>\n",
       "      <td>1</td>\n",
       "      <td>BE</td>\n",
       "      <td>...</td>\n",
       "      <td>10.0</td>\n",
       "      <td>10.0</td>\n",
       "      <td>10.0</td>\n",
       "      <td>23</td>\n",
       "      <td>16</td>\n",
       "      <td>NaN</td>\n",
       "      <td>0.0</td>\n",
       "      <td>6.0</td>\n",
       "      <td>NaN</td>\n",
       "      <td>282</td>\n",
       "    </tr>\n",
       "    <tr>\n",
       "      <th>2015-07-31</th>\n",
       "      <td>5</td>\n",
       "      <td>5</td>\n",
       "      <td>2015-07-31</td>\n",
       "      <td>4822</td>\n",
       "      <td>559</td>\n",
       "      <td>1</td>\n",
       "      <td>1</td>\n",
       "      <td>0</td>\n",
       "      <td>1</td>\n",
       "      <td>SN</td>\n",
       "      <td>...</td>\n",
       "      <td>10.0</td>\n",
       "      <td>10.0</td>\n",
       "      <td>10.0</td>\n",
       "      <td>14</td>\n",
       "      <td>11</td>\n",
       "      <td>NaN</td>\n",
       "      <td>0.0</td>\n",
       "      <td>4.0</td>\n",
       "      <td>NaN</td>\n",
       "      <td>290</td>\n",
       "    </tr>\n",
       "  </tbody>\n",
       "</table>\n",
       "<p>5 rows × 52 columns</p>\n",
       "</div>"
      ],
      "text/plain": [
       "            Store  DayOfWeek       Date  Sales  Customers  Open  Promo  \\\n",
       "Date                                                                     \n",
       "2015-07-31      1          5 2015-07-31   5263        555     1      1   \n",
       "2015-07-31      2          5 2015-07-31   6064        625     1      1   \n",
       "2015-07-31      3          5 2015-07-31   8314        821     1      1   \n",
       "2015-07-31      4          5 2015-07-31  13995       1498     1      1   \n",
       "2015-07-31      5          5 2015-07-31   4822        559     1      1   \n",
       "\n",
       "           StateHoliday  SchoolHoliday State      ...       Max_VisibilityKm  \\\n",
       "Date                                              ...                          \n",
       "2015-07-31            0              1    HE      ...                   31.0   \n",
       "2015-07-31            0              1    TH      ...                   10.0   \n",
       "2015-07-31            0              1    NW      ...                   31.0   \n",
       "2015-07-31            0              1    BE      ...                   10.0   \n",
       "2015-07-31            0              1    SN      ...                   10.0   \n",
       "\n",
       "           Mean_VisibilityKm Min_VisibilitykM  Max_Wind_SpeedKm_h  \\\n",
       "Date                                                                \n",
       "2015-07-31              15.0             10.0                  24   \n",
       "2015-07-31              10.0             10.0                  14   \n",
       "2015-07-31              14.0             10.0                  14   \n",
       "2015-07-31              10.0             10.0                  23   \n",
       "2015-07-31              10.0             10.0                  14   \n",
       "\n",
       "            Mean_Wind_SpeedKm_h  Max_Gust_SpeedKm_h  Precipitationmm  \\\n",
       "Date                                                                   \n",
       "2015-07-31                   11                 NaN              0.0   \n",
       "2015-07-31                   11                 NaN              0.0   \n",
       "2015-07-31                    5                 NaN              0.0   \n",
       "2015-07-31                   16                 NaN              0.0   \n",
       "2015-07-31                   11                 NaN              0.0   \n",
       "\n",
       "            CloudCover  Events WindDirDegrees  \n",
       "Date                                           \n",
       "2015-07-31         1.0     Fog             13  \n",
       "2015-07-31         4.0     Fog            309  \n",
       "2015-07-31         2.0     Fog            354  \n",
       "2015-07-31         6.0     NaN            282  \n",
       "2015-07-31         4.0     NaN            290  \n",
       "\n",
       "[5 rows x 52 columns]"
      ]
     },
     "execution_count": 2,
     "metadata": {},
     "output_type": "execute_result"
    }
   ],
   "source": [
    "import pandas as pd\n",
    "import numpy as np\n",
    "import random\n",
    "import matplotlib.pyplot as plt\n",
    "import seaborn as sns\n",
    "import warnings\n",
    "import datetime\n",
    "\n",
    "#notebook seetings\n",
    "warnings.filterwarnings(\"ignore\")\n",
    "%matplotlib inline\n",
    "sns.set_style(\"white\")\n",
    "\n",
    "#general variables\n",
    "rnd_state = 0\n",
    "np.random.seed(rnd_state)\n",
    "target = \"Sales\"\n",
    "\n",
    "#import the data\n",
    "dat = pd.read_csv(\"data/train.csv\",delimiter=\",\",parse_dates = [\"Date\"]) #encoding = \"ISO-8859-1\"\n",
    "store_state = pd.read_csv(\"data/store_states.csv\",delimiter=\",\")\n",
    "state_name = pd.read_csv(\"data/state_names.csv\",delimiter=\",\")\n",
    "additional_store = pd.read_csv(\"data/store.csv\",delimiter=\",\")\n",
    "\n",
    "google = pd.read_csv(\"data/googletrend.csv\",delimiter=\",\")\n",
    "weather = pd.read_csv(\"data/weather.csv\",delimiter=\",\",parse_dates = [\"Date\"])\n",
    "\n",
    "#Merge datasets into one\n",
    "store = store_state.merge(state_name,on = \"State\", how = \"left\", copy=False)\n",
    "dat = dat.merge(store, on = \"Store\", how = \"left\", copy=False)\n",
    "dat = dat.merge(additional_store, on=\"Store\",how = \"left\", copy = False)\n",
    "\n",
    "# Split the date column into its parts\n",
    "dat[\"Day\"] = dat[\"Date\"].dt.day\n",
    "dat[\"Month\"] = dat[\"Date\"].dt.month\n",
    "dat[\"Year\"] = dat[\"Date\"].dt.year\n",
    "\n",
    "#keys for google data: [\"Week\",\"Year\", State\"]\n",
    "google[\"Date\"] = pd.to_datetime(google.week.str.split(' - ', expand=True)[1])\n",
    "google[\"Week\"] = google[\"Date\"].dt.week\n",
    "google[\"Year\"] = google[\"Date\"].dt.year\n",
    "google[\"State\"] = google.file.str.split('_', expand=True)[2]\n",
    "google.loc[google.State==\"NI\", \"State\"] = \"HB,NI\"\n",
    "\n",
    "dat[\"Week\"] = (dat[\"Date\"]+datetime.timedelta(days=1)).dt.week #\n",
    "\n",
    "# Merge Google and weather data in\n",
    "dat = dat.merge(google, on=[\"Week\",\"Year\",\"State\"],how = \"left\", copy = False,suffixes=(\"\", \"_y\"))\n",
    "dat = dat.drop([\"file\",\"week\",\"Date_y\"],axis=1)\n",
    "dat.rename(columns={'trend':'trend_specific'}, inplace=True)\n",
    "\n",
    "#keys germany-wide trend: \"Week\",\"Year\"\n",
    "dat = dat.merge(google[google[\"file\"]==\"Rossmann_DE\"], on=[\"Week\",\"Year\"],how = \"left\", copy = False,suffixes=(\"\", \"_y\"))\n",
    "\n",
    "#keys for weather data: [\"Date\",\"StateName\"]\n",
    "weather.rename(columns={'file':'StateName'}, inplace=True)\n",
    "dat = dat.merge(weather, on=[\"Date\",\"StateName\"],how = \"left\", copy = False,suffixes=(\"\", \"_y\"))\n",
    "dat.index = dat[\"Date\"]\n",
    "dat.head()"
   ]
  },
  {
   "cell_type": "code",
   "execution_count": 3,
   "metadata": {},
   "outputs": [
    {
     "name": "stdout",
     "output_type": "stream",
     "text": [
      "(1017209, 47)\n"
     ]
    }
   ],
   "source": [
    "#Drop some columns which are not being used\n",
    "drop_cols = [\"State\",\"file\",\"week\",\"Date_y\",\"State_y\"]\n",
    "dat = dat.drop(drop_cols,axis=1)\n",
    "print(dat.shape)"
   ]
  },
  {
   "cell_type": "markdown",
   "metadata": {},
   "source": [
    "The dataset contains a total of *1,017,209 observations* and *46 raw features* plus target variable. It includes both categorical and numeric variables, which will be pre-processed appropriately."
   ]
  },
  {
   "cell_type": "markdown",
   "metadata": {},
   "source": [
    "### Target variable"
   ]
  },
  {
   "cell_type": "code",
   "execution_count": 4,
   "metadata": {},
   "outputs": [
    {
     "data": {
      "image/png": "[encoded data removed]",
      "text/plain": [
       "<matplotlib.figure.Figure at 0x1c7e51ae748>"
      ]
     },
     "metadata": {},
     "output_type": "display_data"
    }
   ],
   "source": [
    "plt.hist(dat[target],bins = 50)\n",
    "plt.show()"
   ]
  },
  {
   "cell_type": "markdown",
   "metadata": {},
   "source": [
    "The target variable is daily store **sales**, which is slightly skewed as it is shown above. Moreover, the data contains some observations with zero sales. These were days, when the Rossmann stores were either temporarily closed for refurbishment or holidays."
   ]
  },
  {
   "cell_type": "code",
   "execution_count": 5,
   "metadata": {},
   "outputs": [
    {
     "data": {
      "image/png": "[encoded data removed]",
      "text/plain": [
       "<matplotlib.figure.Figure at 0x1c780b04e10>"
      ]
     },
     "metadata": {},
     "output_type": "display_data"
    }
   ],
   "source": [
    "#Scale target\n",
    "max_log_y = np.max(np.log(dat[target]))\n",
    "dat.loc[dat[target]!=0,target] = np.log(dat.loc[dat[target]!=0,target])/max_log_y \n",
    "plt.hist(dat[target],bins = 50)\n",
    "plt.show()"
   ]
  },
  {
   "cell_type": "markdown",
   "metadata": {},
   "source": [
    "In order to have a nicer target distribution for the deep learning model, the sales data is being log transformed and normalized."
   ]
  },
  {
   "cell_type": "markdown",
   "metadata": {},
   "source": [
    "### Missing data"
   ]
  },
  {
   "cell_type": "markdown",
   "metadata": {},
   "source": [
    "**Number of missing records:**"
   ]
  },
  {
   "cell_type": "code",
   "execution_count": 6,
   "metadata": {},
   "outputs": [
    {
     "data": {
      "text/plain": [
       "CompetitionDistance            2642\n",
       "CompetitionOpenSinceMonth    323348\n",
       "CompetitionOpenSinceYear     323348\n",
       "Promo2SinceWeek              508031\n",
       "Promo2SinceYear              508031\n",
       "PromoInterval                508031\n",
       "Max_VisibilityKm              24645\n",
       "Mean_VisibilityKm             24645\n",
       "Min_VisibilitykM              24645\n",
       "Max_Gust_SpeedKm_h           781042\n",
       "CloudCover                    80319\n",
       "Events                       242248\n",
       "dtype: int64"
      ]
     },
     "execution_count": 6,
     "metadata": {},
     "output_type": "execute_result"
    }
   ],
   "source": [
    "missing = dat.isnull().sum()\n",
    "missing[missing != 0]"
   ]
  },
  {
   "cell_type": "markdown",
   "metadata": {},
   "source": [
    "The data fields above contain quite a few missing records. For most of the variables I will simply replace the missing record with a dummy value. Later, the model will learn how to deal with the dummy entries.\n",
    "\n",
    "The weather variables *Max_Gust_SpeedKm_h and VisibilityKm * will be dropped since they are deemed not to be very useful or contain no data for most of the observations."
   ]
  },
  {
   "cell_type": "code",
   "execution_count": 7,
   "metadata": {
    "collapsed": true
   },
   "outputs": [],
   "source": [
    "drop_cols = [\"Max_Gust_SpeedKm_h\",\"Max_VisibilityKm\",\"Mean_VisibilityKm\",\"Min_VisibilitykM\"]\n",
    "dat = dat.drop(drop_cols,axis=1)"
   ]
  },
  {
   "cell_type": "code",
   "execution_count": 8,
   "metadata": {},
   "outputs": [],
   "source": [
    "#Replace missing values with dummy values\n",
    "dat.CompetitionOpenSinceYear = dat.CompetitionOpenSinceYear.fillna(1900).astype(np.int32)\n",
    "dat.CompetitionOpenSinceMonth = dat.CompetitionOpenSinceMonth.fillna(1).astype(np.int32)\n",
    "dat.Promo2SinceYear = dat.Promo2SinceYear.fillna(1900).astype(np.int32)\n",
    "dat.Promo2SinceWeek = dat.Promo2SinceWeek.fillna(1).astype(np.int32)\n",
    "\n",
    "dat.CompetitionDistance = dat.CompetitionDistance.fillna(0.)\n",
    "dat.PromoInterval = dat.PromoInterval.astype(str)\n",
    "dat.Events = dat.Events.astype(str)\n",
    "dat.CloudCover = dat.CloudCover.fillna(-1.)\n",
    "\n",
    "missing = dat.isnull().sum()"
   ]
  },
  {
   "cell_type": "markdown",
   "metadata": {},
   "source": [
    "### Feature engineering"
   ]
  },
  {
   "cell_type": "markdown",
   "metadata": {},
   "source": [
    "#### Transform ambiguous date features"
   ]
  },
  {
   "cell_type": "code",
   "execution_count": 9,
   "metadata": {},
   "outputs": [
    {
     "data": {
      "text/html": [
       "<div>\n",
       "<style>\n",
       "    .dataframe thead tr:only-child th {\n",
       "        text-align: right;\n",
       "    }\n",
       "\n",
       "    .dataframe thead th {\n",
       "        text-align: left;\n",
       "    }\n",
       "\n",
       "    .dataframe tbody tr th {\n",
       "        vertical-align: top;\n",
       "    }\n",
       "</style>\n",
       "<table border=\"1\" class=\"dataframe\">\n",
       "  <thead>\n",
       "    <tr style=\"text-align: right;\">\n",
       "      <th></th>\n",
       "      <th>Store</th>\n",
       "      <th>Date</th>\n",
       "      <th>Promo2SinceWeek</th>\n",
       "      <th>Promo2SinceYear</th>\n",
       "      <th>CompetitionOpenSinceMonth</th>\n",
       "      <th>CompetitionOpenSinceYear</th>\n",
       "    </tr>\n",
       "    <tr>\n",
       "      <th>Date</th>\n",
       "      <th></th>\n",
       "      <th></th>\n",
       "      <th></th>\n",
       "      <th></th>\n",
       "      <th></th>\n",
       "      <th></th>\n",
       "    </tr>\n",
       "  </thead>\n",
       "  <tbody>\n",
       "    <tr>\n",
       "      <th>2015-07-31</th>\n",
       "      <td>1</td>\n",
       "      <td>2015-07-31</td>\n",
       "      <td>1</td>\n",
       "      <td>1900</td>\n",
       "      <td>9</td>\n",
       "      <td>2008</td>\n",
       "    </tr>\n",
       "    <tr>\n",
       "      <th>2015-07-31</th>\n",
       "      <td>2</td>\n",
       "      <td>2015-07-31</td>\n",
       "      <td>13</td>\n",
       "      <td>2010</td>\n",
       "      <td>11</td>\n",
       "      <td>2007</td>\n",
       "    </tr>\n",
       "    <tr>\n",
       "      <th>2015-07-31</th>\n",
       "      <td>3</td>\n",
       "      <td>2015-07-31</td>\n",
       "      <td>14</td>\n",
       "      <td>2011</td>\n",
       "      <td>12</td>\n",
       "      <td>2006</td>\n",
       "    </tr>\n",
       "    <tr>\n",
       "      <th>2015-07-31</th>\n",
       "      <td>4</td>\n",
       "      <td>2015-07-31</td>\n",
       "      <td>1</td>\n",
       "      <td>1900</td>\n",
       "      <td>9</td>\n",
       "      <td>2009</td>\n",
       "    </tr>\n",
       "    <tr>\n",
       "      <th>2015-07-31</th>\n",
       "      <td>5</td>\n",
       "      <td>2015-07-31</td>\n",
       "      <td>1</td>\n",
       "      <td>1900</td>\n",
       "      <td>4</td>\n",
       "      <td>2015</td>\n",
       "    </tr>\n",
       "  </tbody>\n",
       "</table>\n",
       "</div>"
      ],
      "text/plain": [
       "            Store       Date  Promo2SinceWeek  Promo2SinceYear  \\\n",
       "Date                                                             \n",
       "2015-07-31      1 2015-07-31                1             1900   \n",
       "2015-07-31      2 2015-07-31               13             2010   \n",
       "2015-07-31      3 2015-07-31               14             2011   \n",
       "2015-07-31      4 2015-07-31                1             1900   \n",
       "2015-07-31      5 2015-07-31                1             1900   \n",
       "\n",
       "            CompetitionOpenSinceMonth  CompetitionOpenSinceYear  \n",
       "Date                                                             \n",
       "2015-07-31                          9                      2008  \n",
       "2015-07-31                         11                      2007  \n",
       "2015-07-31                         12                      2006  \n",
       "2015-07-31                          9                      2009  \n",
       "2015-07-31                          4                      2015  "
      ]
     },
     "execution_count": 9,
     "metadata": {},
     "output_type": "execute_result"
    }
   ],
   "source": [
    "columns = [\"Store\",\"Date\", \"Promo2SinceWeek\",\"Promo2SinceYear\",\n",
    "           \"CompetitionOpenSinceMonth\",\"CompetitionOpenSinceYear\"]\n",
    "dat[columns].head()"
   ]
  },
  {
   "cell_type": "markdown",
   "metadata": {},
   "source": [
    "The promotion and the competition features are ambiguous as they contain only a date reference. The model will more easily learn patterns if these features are being transformed into meaningful counts using the data above. The following new features will be created:\n",
    "\n",
    "* Promo2Weeks\n",
    "* CompetitionMonthsOpen"
   ]
  },
  {
   "cell_type": "code",
   "execution_count": 10,
   "metadata": {
    "collapsed": true
   },
   "outputs": [],
   "source": [
    "dat[\"Promo2Since\"] = pd.to_datetime(dat.apply(lambda x: datetime.datetime.strptime(str(x.Promo2SinceYear)+\" \"+str(x.Promo2SinceWeek) + \" 0\", \"%Y %W %w\"), axis=1).astype(pd.datetime))\n",
    "dat[\"Promo2Days\"] = dat.Date.subtract(dat[\"Promo2Since\"]).dt.days"
   ]
  },
  {
   "cell_type": "code",
   "execution_count": 11,
   "metadata": {},
   "outputs": [
    {
     "data": {
      "image/png": "[encoded data removed]",
      "text/plain": [
       "<matplotlib.figure.Figure at 0x1c780d651d0>"
      ]
     },
     "metadata": {},
     "output_type": "display_data"
    }
   ],
   "source": [
    "dat.loc[dat.Promo2Days<0, \"Promo2Days\"] = 0\n",
    "dat.loc[dat.Promo2SinceYear<1990, \"Promo2Days\"] = 0\n",
    "dat[\"Promo2Weeks\"] = dat[\"Promo2Days\"]//7\n",
    "dat.loc[dat.Promo2Weeks<0, \"Promo2Weeks\"] = 0\n",
    "\n",
    "plt.hist(dat.loc[dat[\"Promo2Weeks\"]>0,\"Promo2Weeks\"],bins=50)\n",
    "plt.title(\"Promo2Weeks\")\n",
    "plt.show()"
   ]
  },
  {
   "cell_type": "markdown",
   "metadata": {},
   "source": [
    "The historgram above shows the distribution of the new feature *Promo2Weeks* which indicates the number of weeks for which a certain promotion has been in place. "
   ]
  },
  {
   "cell_type": "code",
   "execution_count": 12,
   "metadata": {},
   "outputs": [
    {
     "data": {
      "image/png": "[encoded data removed]",
      "text/plain": [
       "<matplotlib.figure.Figure at 0x1c7e9cf2ac8>"
      ]
     },
     "metadata": {},
     "output_type": "display_data"
    }
   ],
   "source": [
    "dat[\"CompetitionOpenSince\"] = pd.to_datetime(dat.apply(lambda x: datetime.datetime(x.CompetitionOpenSinceYear,x.CompetitionOpenSinceMonth,15), axis=1).astype(pd.datetime))\n",
    "dat[\"CompetitionDaysOpen\"] = dat.Date.subtract(dat[\"CompetitionOpenSince\"]).dt.days\n",
    "dat.loc[dat.CompetitionDaysOpen<0, \"CompetitionDaysOpen\"] = 0\n",
    "dat.loc[dat.CompetitionOpenSinceYear<1990, \"CompetitionDaysOpen\"] = 0\n",
    "dat[\"CompetitionMonthsOpen\"] = dat[\"CompetitionDaysOpen\"]//30\n",
    "\n",
    "plt.hist(dat.loc[dat[\"CompetitionMonthsOpen\"]>0,\"CompetitionMonthsOpen\"],bins=50)\n",
    "plt.title(\"CompetitionMonthsOpen\")\n",
    "plt.show()"
   ]
  },
  {
   "cell_type": "markdown",
   "metadata": {},
   "source": [
    "The historgram above shows the distribution of the new feature *CompetitionMonthsOpen* which describes the number of months for which the competition has been operating."
   ]
  },
  {
   "cell_type": "code",
   "execution_count": 26,
   "metadata": {
    "collapsed": true
   },
   "outputs": [],
   "source": [
    "#Delete the interim variables\n",
    "drop_cols = [\"CompetitionOpenSince\",\"CompetitionDaysOpen\",\"Promo2Since\",\"Promo2Days\"]\n",
    "dat = dat.drop(drop_cols,axis=1)"
   ]
  },
  {
   "cell_type": "markdown",
   "metadata": {},
   "source": [
    "#### Time-series interaction features"
   ]
  },
  {
   "cell_type": "code",
   "execution_count": 13,
   "metadata": {
    "collapsed": true
   },
   "outputs": [],
   "source": [
    "def repl(x):\n",
    "    if x==0 or x==\"0\": return 0\n",
    "    else: return 1\n",
    "    \n",
    "dat[\"StateHoliday\"] = dat[\"StateHoliday\"].apply(repl)"
   ]
  },
  {
   "cell_type": "markdown",
   "metadata": {},
   "source": [
    "In order to help the model to find time series patterns, I will calculate some additional time features. The following features will be created and they generally contain rolling sums and day counts since the last relevant holidays:\n",
    "    \n",
    "* AfterStateHoliday\n",
    "* BeforeStateHoliday\n",
    "* StateHoliday_fw\n",
    "* StateHoliday_bw\n",
    "* Promo_fw\n",
    "* Promo_bw\n",
    "* SchoolHoliday_fw\n",
    "* SchoolHoliday_bw\n"
   ]
  },
  {
   "cell_type": "code",
   "execution_count": 14,
   "metadata": {
    "collapsed": true
   },
   "outputs": [],
   "source": [
    "class elapsed(object):\n",
    "    def __init__(self, fld):\n",
    "        self.fld = fld\n",
    "        self.last = pd.to_datetime(np.nan)\n",
    "        self.last_store = 0\n",
    "        \n",
    "    def get(self, row):\n",
    "        if row.Store != self.last_store:\n",
    "            self.last = pd.to_datetime(np.nan)\n",
    "            self.last_store = row.Store\n",
    "        if not (row[self.fld]==0): self.last = row.Date\n",
    "        return (row.Date-self.last).days\n",
    "\n",
    "def add_elapsed(fld, prefix):\n",
    "    sh_el = elapsed(fld)\n",
    "    df[prefix+fld] = df.apply(sh_el.get, axis=1)"
   ]
  },
  {
   "cell_type": "code",
   "execution_count": 15,
   "metadata": {},
   "outputs": [
    {
     "data": {
      "text/html": [
       "<div>\n",
       "<style>\n",
       "    .dataframe thead tr:only-child th {\n",
       "        text-align: right;\n",
       "    }\n",
       "\n",
       "    .dataframe thead th {\n",
       "        text-align: left;\n",
       "    }\n",
       "\n",
       "    .dataframe tbody tr th {\n",
       "        vertical-align: top;\n",
       "    }\n",
       "</style>\n",
       "<table border=\"1\" class=\"dataframe\">\n",
       "  <thead>\n",
       "    <tr style=\"text-align: right;\">\n",
       "      <th></th>\n",
       "      <th>Date</th>\n",
       "      <th>Store</th>\n",
       "      <th>AfterStateHoliday</th>\n",
       "      <th>BeforeStateHoliday</th>\n",
       "    </tr>\n",
       "    <tr>\n",
       "      <th>Date</th>\n",
       "      <th></th>\n",
       "      <th></th>\n",
       "      <th></th>\n",
       "      <th></th>\n",
       "    </tr>\n",
       "  </thead>\n",
       "  <tbody>\n",
       "    <tr>\n",
       "      <th>2015-07-31</th>\n",
       "      <td>2015-07-31</td>\n",
       "      <td>1</td>\n",
       "      <td>57.0</td>\n",
       "      <td>0.0</td>\n",
       "    </tr>\n",
       "    <tr>\n",
       "      <th>2015-07-30</th>\n",
       "      <td>2015-07-30</td>\n",
       "      <td>1</td>\n",
       "      <td>56.0</td>\n",
       "      <td>0.0</td>\n",
       "    </tr>\n",
       "    <tr>\n",
       "      <th>2015-07-29</th>\n",
       "      <td>2015-07-29</td>\n",
       "      <td>1</td>\n",
       "      <td>55.0</td>\n",
       "      <td>0.0</td>\n",
       "    </tr>\n",
       "    <tr>\n",
       "      <th>2015-07-28</th>\n",
       "      <td>2015-07-28</td>\n",
       "      <td>1</td>\n",
       "      <td>54.0</td>\n",
       "      <td>0.0</td>\n",
       "    </tr>\n",
       "    <tr>\n",
       "      <th>2015-07-27</th>\n",
       "      <td>2015-07-27</td>\n",
       "      <td>1</td>\n",
       "      <td>53.0</td>\n",
       "      <td>0.0</td>\n",
       "    </tr>\n",
       "  </tbody>\n",
       "</table>\n",
       "</div>"
      ],
      "text/plain": [
       "                 Date  Store  AfterStateHoliday  BeforeStateHoliday\n",
       "Date                                                               \n",
       "2015-07-31 2015-07-31      1               57.0                 0.0\n",
       "2015-07-30 2015-07-30      1               56.0                 0.0\n",
       "2015-07-29 2015-07-29      1               55.0                 0.0\n",
       "2015-07-28 2015-07-28      1               54.0                 0.0\n",
       "2015-07-27 2015-07-27      1               53.0                 0.0"
      ]
     },
     "execution_count": 15,
     "metadata": {},
     "output_type": "execute_result"
    }
   ],
   "source": [
    "columns = [\"Date\",\"Store\",\"StateHoliday\"]\n",
    "\n",
    "#Get day counts since last and before next holiday\n",
    "fld = 'StateHoliday'\n",
    "df = dat[columns].sort_values(['Store', 'Date'])\n",
    "add_elapsed(fld, 'After')\n",
    "\n",
    "df = df.sort_values(['Store', 'Date'], ascending=[True, False])\n",
    "add_elapsed(fld, 'Before')\n",
    "\n",
    "df = df.fillna(0)\n",
    "df.drop('StateHoliday',1,inplace=True)\n",
    "df.head()"
   ]
  },
  {
   "cell_type": "markdown",
   "metadata": {},
   "source": [
    "For every observation I have added a feature stating the number of days before and after a state holiday on the day of the observation. This feature will be useful in case there is a special shopping behaviour before and after state holidays."
   ]
  },
  {
   "cell_type": "code",
   "execution_count": 16,
   "metadata": {},
   "outputs": [
    {
     "data": {
      "text/html": [
       "<div>\n",
       "<style>\n",
       "    .dataframe thead tr:only-child th {\n",
       "        text-align: right;\n",
       "    }\n",
       "\n",
       "    .dataframe thead th {\n",
       "        text-align: left;\n",
       "    }\n",
       "\n",
       "    .dataframe tbody tr th {\n",
       "        vertical-align: top;\n",
       "    }\n",
       "</style>\n",
       "<table border=\"1\" class=\"dataframe\">\n",
       "  <thead>\n",
       "    <tr style=\"text-align: right;\">\n",
       "      <th></th>\n",
       "      <th>Store</th>\n",
       "      <th>Date</th>\n",
       "      <th>SchoolHoliday</th>\n",
       "      <th>StateHoliday</th>\n",
       "      <th>Promo</th>\n",
       "    </tr>\n",
       "  </thead>\n",
       "  <tbody>\n",
       "    <tr>\n",
       "      <th>0</th>\n",
       "      <td>1</td>\n",
       "      <td>2013-01-01</td>\n",
       "      <td>1.0</td>\n",
       "      <td>1.0</td>\n",
       "      <td>0.0</td>\n",
       "    </tr>\n",
       "    <tr>\n",
       "      <th>1</th>\n",
       "      <td>1</td>\n",
       "      <td>2013-01-02</td>\n",
       "      <td>2.0</td>\n",
       "      <td>1.0</td>\n",
       "      <td>0.0</td>\n",
       "    </tr>\n",
       "    <tr>\n",
       "      <th>2</th>\n",
       "      <td>1</td>\n",
       "      <td>2013-01-03</td>\n",
       "      <td>3.0</td>\n",
       "      <td>1.0</td>\n",
       "      <td>0.0</td>\n",
       "    </tr>\n",
       "    <tr>\n",
       "      <th>3</th>\n",
       "      <td>1</td>\n",
       "      <td>2013-01-04</td>\n",
       "      <td>4.0</td>\n",
       "      <td>1.0</td>\n",
       "      <td>0.0</td>\n",
       "    </tr>\n",
       "    <tr>\n",
       "      <th>4</th>\n",
       "      <td>1</td>\n",
       "      <td>2013-01-05</td>\n",
       "      <td>5.0</td>\n",
       "      <td>1.0</td>\n",
       "      <td>0.0</td>\n",
       "    </tr>\n",
       "  </tbody>\n",
       "</table>\n",
       "</div>"
      ],
      "text/plain": [
       "   Store       Date  SchoolHoliday  StateHoliday  Promo\n",
       "0      1 2013-01-01            1.0           1.0    0.0\n",
       "1      1 2013-01-02            2.0           1.0    0.0\n",
       "2      1 2013-01-03            3.0           1.0    0.0\n",
       "3      1 2013-01-04            4.0           1.0    0.0\n",
       "4      1 2013-01-05            5.0           1.0    0.0"
      ]
     },
     "execution_count": 16,
     "metadata": {},
     "output_type": "execute_result"
    }
   ],
   "source": [
    "columns = ['SchoolHoliday', 'StateHoliday', 'Promo']\n",
    "\n",
    "#Calculate rolling window sum with windowsize 7\n",
    "bwd = dat[['Store']+columns].sort_index().groupby(\"Store\").rolling(7, min_periods=1).sum()\n",
    "fwd = dat[['Store']+columns].sort_index(ascending=False).groupby(\"Store\").rolling(7, min_periods=1).sum()\n",
    "\n",
    "#get only relevant columns\n",
    "bwd.drop('Store',1,inplace=True)\n",
    "bwd.reset_index(inplace=True)\n",
    "fwd.drop('Store',1,inplace=True)\n",
    "fwd.reset_index(inplace=True)\n",
    "bwd.head()"
   ]
  },
  {
   "cell_type": "code",
   "execution_count": 17,
   "metadata": {
    "collapsed": true
   },
   "outputs": [],
   "source": [
    "#Merge new features with dataset and drop old features\n",
    "dat = dat.merge(bwd, 'left', ['Date', 'Store'], suffixes=['', '_bw'])\n",
    "dat = dat.merge(fwd, 'left', ['Date', 'Store'], suffixes=['', '_fw'])\n",
    "dat = dat.merge(df, 'left', ['Date', 'Store'], copy=False)\n",
    "\n",
    "#Set index to date\n",
    "dat = dat.set_index(\"Date\")"
   ]
  },
  {
   "cell_type": "markdown",
   "metadata": {},
   "source": [
    "Moreover, for every observation I added a feature counting the number of Promo, StateHoliday and SchoolHoliday days in the last and next 7 days. This running sum gives an indication of the length of the holiday or promotion and enables the learning algorithm to find patterns related to sales and the length of preceding and subsequent holidays."
   ]
  },
  {
   "cell_type": "code",
   "execution_count": 18,
   "metadata": {
    "collapsed": true
   },
   "outputs": [],
   "source": [
    "del bwd,fwd,df"
   ]
  },
  {
   "cell_type": "markdown",
   "metadata": {},
   "source": [
    "### Categorical and numeric features"
   ]
  },
  {
   "cell_type": "markdown",
   "metadata": {},
   "source": [
    "In this section I will define the feature set which will be used by the model and also the feature category, namely categorical and numeric features. According to this feature classification the variables will be pre-processed appropriately."
   ]
  },
  {
   "cell_type": "code",
   "execution_count": 27,
   "metadata": {},
   "outputs": [
    {
     "data": {
      "text/plain": [
       "Index(['Store', 'DayOfWeek', 'Sales', 'Customers', 'Open', 'Promo',\n",
       "       'StateHoliday', 'SchoolHoliday', 'StateName', 'StoreType', 'Assortment',\n",
       "       'CompetitionDistance', 'CompetitionOpenSinceMonth',\n",
       "       'CompetitionOpenSinceYear', 'Promo2', 'Promo2SinceWeek',\n",
       "       'Promo2SinceYear', 'PromoInterval', 'Day', 'Month', 'Year', 'Week',\n",
       "       'trend_specific', 'trend', 'Max_TemperatureC', 'Mean_TemperatureC',\n",
       "       'Min_TemperatureC', 'Dew_PointC', 'MeanDew_PointC', 'Min_DewpointC',\n",
       "       'Max_Humidity', 'Mean_Humidity', 'Min_Humidity',\n",
       "       'Max_Sea_Level_PressurehPa', 'Mean_Sea_Level_PressurehPa',\n",
       "       'Min_Sea_Level_PressurehPa', 'Max_Wind_SpeedKm_h',\n",
       "       'Mean_Wind_SpeedKm_h', 'Precipitationmm', 'CloudCover', 'Events',\n",
       "       'WindDirDegrees', 'Promo2Weeks', 'CompetitionMonthsOpen',\n",
       "       'SchoolHoliday_bw', 'StateHoliday_bw', 'Promo_bw', 'SchoolHoliday_fw',\n",
       "       'StateHoliday_fw', 'Promo_fw', 'AfterStateHoliday',\n",
       "       'BeforeStateHoliday'],\n",
       "      dtype='object')"
      ]
     },
     "execution_count": 27,
     "metadata": {},
     "output_type": "execute_result"
    }
   ],
   "source": [
    "dat.columns"
   ]
  },
  {
   "cell_type": "markdown",
   "metadata": {},
   "source": [
    "Above, you can see all variables in the data set after feature engineering."
   ]
  },
  {
   "cell_type": "code",
   "execution_count": 28,
   "metadata": {},
   "outputs": [
    {
     "name": "stdout",
     "output_type": "stream",
     "text": [
      "Unused variables:  ['Customers', 'Dew_PointC', 'MeanDew_PointC', 'Min_DewpointC', 'Max_Sea_Level_PressurehPa', 'Mean_Sea_Level_PressurehPa', 'Min_Sea_Level_PressurehPa', 'WindDirDegrees', 'Promo', 'Promo2SinceWeek', 'CompetitionOpenSinceMonth', 'Promo2']\n"
     ]
    }
   ],
   "source": [
    "unused_vars = [\"Customers\",\"Dew_PointC\",'MeanDew_PointC', 'Min_DewpointC','Max_Sea_Level_PressurehPa', \n",
    "               'Mean_Sea_Level_PressurehPa','Min_Sea_Level_PressurehPa',\"WindDirDegrees\",\n",
    "               \"Promo\",'Promo2SinceWeek','CompetitionOpenSinceMonth',\"Promo2\"]\n",
    "print(\"Unused variables: \",unused_vars)"
   ]
  },
  {
   "cell_type": "markdown",
   "metadata": {},
   "source": [
    "These features above will be excluded from the analysis for now."
   ]
  },
  {
   "cell_type": "code",
   "execution_count": 29,
   "metadata": {},
   "outputs": [
    {
     "name": "stdout",
     "output_type": "stream",
     "text": [
      "Numeric variables:  ['CompetitionDistance', 'trend_specific', 'trend', 'Max_TemperatureC', 'Mean_TemperatureC', 'Min_TemperatureC', 'Max_Humidity', 'Mean_Humidity', 'Min_Humidity', 'Max_Wind_SpeedKm_h', 'Mean_Wind_SpeedKm_h', 'Precipitationmm', 'Promo2Weeks', 'CompetitionMonthsOpen', 'AfterStateHoliday', 'BeforeStateHoliday']\n",
      "\n",
      "Categorical variables:  ['Store', 'DayOfWeek', 'Open', 'StateHoliday', 'SchoolHoliday', 'StateName', 'StoreType', 'Assortment', 'CompetitionOpenSinceYear', 'Promo2SinceYear', 'PromoInterval', 'Day', 'Month', 'Year', 'Week', 'CloudCover', 'Events', 'SchoolHoliday_bw', 'StateHoliday_bw', 'Promo_bw', 'SchoolHoliday_fw', 'StateHoliday_fw', 'Promo_fw']\n"
     ]
    }
   ],
   "source": [
    "#Get only the numeric and int feature names in order to scale them\n",
    "num_features = [\"CompetitionDistance\",\"trend_specific\",\"trend\",\"Max_TemperatureC\",\"Mean_TemperatureC\",\n",
    "               \"Min_TemperatureC\",'Max_Humidity', 'Mean_Humidity', 'Min_Humidity', \n",
    "                'Max_Wind_SpeedKm_h','Mean_Wind_SpeedKm_h', 'Precipitationmm','Promo2Weeks', \n",
    "                'CompetitionMonthsOpen','AfterStateHoliday','BeforeStateHoliday']\n",
    "\n",
    "#Get only the categorical feature names in order to transform them\n",
    "cat_features = [e for e in list(dat.columns) if e not in num_features+unused_vars]\n",
    "cat_features.remove(target)\n",
    "print(\"Numeric variables: \",num_features)\n",
    "print()\n",
    "print(\"Categorical variables: \",cat_features)"
   ]
  },
  {
   "cell_type": "markdown",
   "metadata": {},
   "source": [
    "All of the features above will be used for training the forecasting model.The categorical features will be taken into account as embeddings while the numerical features will be normalized."
   ]
  },
  {
   "cell_type": "code",
   "execution_count": 30,
   "metadata": {},
   "outputs": [
    {
     "data": {
      "text/plain": [
       "[1115, 7, 2, 2, 2, 12, 4, 3, 23, 8, 4, 31, 12, 3, 52, 10, 22, 8, 3, 6, 8, 3, 6]"
      ]
     },
     "execution_count": 30,
     "metadata": {},
     "output_type": "execute_result"
    }
   ],
   "source": [
    "cat_features_cardinality = [len(dat[feat_name].unique()) for feat_name in cat_features]\n",
    "cat_features_cardinality"
   ]
  },
  {
   "cell_type": "markdown",
   "metadata": {},
   "source": [
    "The number of classes for each categorical feature (i.e. cardinality) is being recorded in the list above."
   ]
  },
  {
   "cell_type": "code",
   "execution_count": 31,
   "metadata": {
    "collapsed": true
   },
   "outputs": [],
   "source": [
    "#Set the Categorical feature embedding size manually (An automated approach could also be used)\n",
    "cat_features_embedding = [50,   4,   1,   1,   1,   6,   2,   2,  12,   4,   2,  16,   6,\n",
    "         2,  26,   5,  11,   4,   2,   3,   4,   2,   3]"
   ]
  },
  {
   "cell_type": "code",
   "execution_count": 32,
   "metadata": {
    "collapsed": true
   },
   "outputs": [],
   "source": [
    "def categorical_feat_settings(cat_features,cardinality,embedding_dims):\n",
    "    info_dict = {}\n",
    "    for i,feat_name in enumerate(cat_features):\n",
    "        info_dict[feat_name] = {\"cardinality\":cardinality[i],\"emb_dim\":embedding_dims[i]}\n",
    "    return info_dict"
   ]
  },
  {
   "cell_type": "code",
   "execution_count": 33,
   "metadata": {},
   "outputs": [
    {
     "data": {
      "text/plain": [
       "{'Assortment': {'cardinality': 3, 'emb_dim': 2},\n",
       " 'CloudCover': {'cardinality': 10, 'emb_dim': 5},\n",
       " 'CompetitionOpenSinceYear': {'cardinality': 23, 'emb_dim': 12},\n",
       " 'Day': {'cardinality': 31, 'emb_dim': 16},\n",
       " 'DayOfWeek': {'cardinality': 7, 'emb_dim': 4},\n",
       " 'Events': {'cardinality': 22, 'emb_dim': 11},\n",
       " 'Month': {'cardinality': 12, 'emb_dim': 6},\n",
       " 'Open': {'cardinality': 2, 'emb_dim': 1},\n",
       " 'Promo2SinceYear': {'cardinality': 8, 'emb_dim': 4},\n",
       " 'PromoInterval': {'cardinality': 4, 'emb_dim': 2},\n",
       " 'Promo_bw': {'cardinality': 6, 'emb_dim': 3},\n",
       " 'Promo_fw': {'cardinality': 6, 'emb_dim': 3},\n",
       " 'SchoolHoliday': {'cardinality': 2, 'emb_dim': 1},\n",
       " 'SchoolHoliday_bw': {'cardinality': 8, 'emb_dim': 4},\n",
       " 'SchoolHoliday_fw': {'cardinality': 8, 'emb_dim': 4},\n",
       " 'StateHoliday': {'cardinality': 2, 'emb_dim': 1},\n",
       " 'StateHoliday_bw': {'cardinality': 3, 'emb_dim': 2},\n",
       " 'StateHoliday_fw': {'cardinality': 3, 'emb_dim': 2},\n",
       " 'StateName': {'cardinality': 12, 'emb_dim': 6},\n",
       " 'Store': {'cardinality': 1115, 'emb_dim': 50},\n",
       " 'StoreType': {'cardinality': 4, 'emb_dim': 2},\n",
       " 'Week': {'cardinality': 52, 'emb_dim': 26},\n",
       " 'Year': {'cardinality': 3, 'emb_dim': 2}}"
      ]
     },
     "execution_count": 33,
     "metadata": {},
     "output_type": "execute_result"
    }
   ],
   "source": [
    "cat_features_info = categorical_feat_settings(cat_features,cat_features_cardinality,cat_features_embedding)\n",
    "cat_features_info"
   ]
  },
  {
   "cell_type": "markdown",
   "metadata": {},
   "source": [
    "For each feature, I have decided upon an embeddings dimensionality, which can be derived from the dictionary above."
   ]
  },
  {
   "cell_type": "code",
   "execution_count": 34,
   "metadata": {},
   "outputs": [
    {
     "name": "stdout",
     "output_type": "stream",
     "text": [
      "To sum up, the model will be trained on 23 categorical and 16 numeric features.\n"
     ]
    }
   ],
   "source": [
    "print(\"To sum up, the model will be trained on %d categorical and %d numeric features.\" % (len(cat_features),len(num_features)))"
   ]
  },
  {
   "cell_type": "markdown",
   "metadata": {},
   "source": [
    "## Data Pre-processing methods"
   ]
  },
  {
   "cell_type": "markdown",
   "metadata": {},
   "source": [
    "In the following section I will implement generic methods, that prepare an arbitrary dataset with categorical and numeric features for input into a deep neural network with entity embeddings. Most importantly, the **categorical features will be encoded** and the **numeric features will be scaled** and normalised for training."
   ]
  },
  {
   "cell_type": "code",
   "execution_count": 35,
   "metadata": {
    "collapsed": true
   },
   "outputs": [],
   "source": [
    "from sklearn.preprocessing import LabelEncoder, StandardScaler\n",
    "from sklearn.model_selection import train_test_split\n",
    "from sklearn_pandas import DataFrameMapper\n",
    "import pickle\n",
    "\n",
    "def load_pickle(fname): \n",
    "    return pickle.load(open(pkl_path+fname + '.pickle', 'rb'))\n",
    "\n",
    "def transform(dat,transformer_mapping, dat_type = np.int32):\n",
    "    return transformer_mapping.transform(dat).astype(dat_type)\n",
    "\n",
    "def split_cols(arr): \n",
    "    return np.hsplit(arr,arr.shape[1]) # Generates a list of categorical feature arrays of the form: [(n,1),(n,1),...]\n",
    "\n",
    "def map_codes(classes):\n",
    "    maps = {}\n",
    "    for i,e in enumerate(list(classes)):\n",
    "        maps[e] = i\n",
    "    return maps\n",
    "\n",
    "def preprocess_train(df,cat_features, num_features, target_var,target_type = \"categorical\"):\n",
    "    \n",
    "    \"\"\"\n",
    "    Label encodes categorical data and scales numerical data for neural network input\n",
    "    \n",
    "    Inputs:\n",
    "    - df: Input data, of any shape\n",
    "    - cat_features: list of categorical feature names\n",
    "    - num_features: list of numerical feature names\n",
    "    - target_var: string with the target variable name\n",
    "    - target_type: Either \"Categorical\" or \"Numeric\"\n",
    "    \n",
    "    Outputs:\n",
    "    - dat_map: Numpy Array of categorical and numerical features prepared for entity embeddings neural network\n",
    "    - target_dat: Numpy Array of the target variable\n",
    "    - encoding_mappings: Dictionary of categorical encodings\n",
    "    \"\"\"\n",
    "    \n",
    "    #Create a list of tubles with variable name and its respective transformer\n",
    "    cat_maps = [(o, LabelEncoder()) for o in cat_features]\n",
    "    \n",
    "    #The same instances need to be used for the test set as well, so values are mapped/standardized appropriately.\n",
    "    #DataFrame mapper will keep track of these variable-instance mappings.\n",
    "    \n",
    "    cat_mapper = DataFrameMapper(cat_maps)\n",
    "    cat_map_fit = cat_mapper.fit(df)\n",
    "    \n",
    "    # Save to project folder for later retrieval at test time\n",
    "    \n",
    "    pickle.dump(cat_map_fit, open('cat_maps.pickle', 'wb'))\n",
    "    \n",
    "    #Transform the data\n",
    "    cat_dat = transform(df,cat_map_fit, dat_type = np.int32)\n",
    "    \n",
    "    if num_features:\n",
    "        contin_maps = [([o], StandardScaler()) for o in num_features]\n",
    "        contin_mapper = DataFrameMapper(contin_maps)\n",
    "        contin_map_fit = contin_mapper.fit(df)\n",
    "        pickle.dump(contin_map_fit, open('contin_maps.pickle', 'wb'))\n",
    "        num_dat = transform(df,contin_map_fit, dat_type = np.float32)\n",
    "        \n",
    "        #Re-combine categorical and numerical features in the correct format\n",
    "        dat_map = split_cols(cat_dat) + [num_dat]\n",
    "    else:\n",
    "        dat_map = split_cols(cat_dat)\n",
    "    \n",
    "    #Build dictionary of categorical mappings\n",
    "    encoding_mappings = {}\n",
    "    for var in cat_map_fit.features:\n",
    "        encoding_mappings[var[0]] = map_codes(var[1].classes_)\n",
    "    \n",
    "    #Transform target variable\n",
    "    if target_type == \"categorical\":\n",
    "        enc = LabelEncoder()\n",
    "        target_dat = enc.fit_transform(df[target_var])\n",
    "        encoding_mappings[target_var] = map_codes(enc.classes_)\n",
    "        \n",
    "    else:\n",
    "        target_dat = df[target_var].as_matrix()\n",
    "        \n",
    "    return dat_map, target_dat, encoding_mappings\n",
    "\n",
    "# Preprocessing function at test time or production\n",
    "def preprocess_test(df_test,num_features):\n",
    "\n",
    "    cat_map_fit = load_pickle(\"cat_maps.pickle\")\n",
    "    #Transform the data\n",
    "    cat_dat = transform(df_test,cat_map_fit, dat_type = np.int32)\n",
    "    \n",
    "    if num_features:\n",
    "        contin_map_fit = load_pickle(\"contin_maps.pickle\")\n",
    "        num_dat = transform(df_test,contin_map_fit, dat_type = np.float32)\n",
    "        #Re-combine categorical and numerical features in the correct format\n",
    "        dat_map = split_cols(cat_dat) + [num_dat]\n",
    "    else:\n",
    "        dat_map = split_cols(cat_dat)\n",
    "        \n",
    "    return dat_map"
   ]
  },
  {
   "cell_type": "markdown",
   "metadata": {},
   "source": [
    "Moreover, it will be necessary to split the data into a training, validation and test set (for both time-series and non-time-series data). Convenient methods are implemented for this as well."
   ]
  },
  {
   "cell_type": "code",
   "execution_count": 36,
   "metadata": {
    "collapsed": true
   },
   "outputs": [],
   "source": [
    "from imblearn.under_sampling import RandomUnderSampler\n",
    "from sklearn.model_selection import ShuffleSplit\n",
    "\n",
    "def train_val_split_timeseries(feature_map, labels, val_ratio = 0.1, test_ratio = 0.1,train_limit = None):\n",
    "    \n",
    "    \"\"\"\n",
    "    Splits training data into a train, val and test set\n",
    "    \n",
    "    Inputs:\n",
    "    - feature_map: Pre-processed input data (Sorted by time with most recent observation at row index 0)\n",
    "    - labels: Pre-processed label data (Sorted by time with most recent observation at row index 0)\n",
    "    - val_ratio: Ratio of validation set size\n",
    "    - test_ratio: Ratio of test set size (Most recent data)\n",
    "    - train_limit: integer value of number of training sample (latest N observations in training set will be selected)\n",
    "    \n",
    "    Outputs:\n",
    "    - six arrays with train, val and test split of X and y\n",
    "    \"\"\"\n",
    "    \n",
    "    samp_size= labels.shape[0]\n",
    "    test_size = int(samp_size * test_ratio)\n",
    "    val_size = int(samp_size * val_ratio)\n",
    "    \n",
    "    test_indices = [i for i in range(test_size)]\n",
    "    val_indices = [i for i in range(test_size,test_size + val_size)]\n",
    "    train_indices =  [i for i in range(test_size + val_size,samp_size)]\n",
    "    \n",
    "    #Sparsify\n",
    "    if train_limit:\n",
    "        train_indices = train_indices[0:train_limit]\n",
    "        \n",
    "    X_train = []\n",
    "    X_val = []\n",
    "    X_test = []\n",
    "    for var in feature_map:\n",
    "        X_train.append(var[train_indices,])\n",
    "        X_val.append(var[val_indices,])\n",
    "        X_test.append(var[test_indices,])\n",
    "\n",
    "    y_train = labels[train_indices,]\n",
    "    y_val = labels[val_indices,]\n",
    "    y_test = labels[test_indices,]\n",
    "    \n",
    "    return X_train, X_val, X_test, y_train, y_val, y_test\n",
    "\n",
    "def train_val_split(feature_map,labels, test_size = 0.2 ,balanced = False, rnd_state=None):\n",
    "    \n",
    "    # Get a random split of the data into train and val data set\n",
    "    rs = ShuffleSplit(n_splits=1, test_size=test_size, random_state=rnd_state)\n",
    "    \n",
    "    for train_indices, test_indices in rs.split(labels):\n",
    "        X_train = []\n",
    "        X_val = []\n",
    "        \n",
    "        for var in feature_map:\n",
    "            X_train.append(var[train_indices,])\n",
    "            X_val.append(var[test_indices,])\n",
    "            \n",
    "        y_train = labels[train_indices,]\n",
    "        y_val = labels[test_indices,]\n",
    "        \n",
    "    # Perform RandomUnderSampling of the majority class\n",
    "    if balanced:\n",
    "        rus = RandomUnderSampler(ratio=0.5, return_indices=True,random_state = rnd_state)\n",
    "        \n",
    "        #Re-Sample training data\n",
    "        _, __, idx_resampled = rus.fit_sample(X_train[0], y_train)\n",
    "        X_train_re = [] \n",
    "        for var in X_train: \n",
    "            X_train_re.append(var[idx_resampled,])\n",
    "        \n",
    "        y_train_re = y_train[idx_resampled,]\n",
    "        \n",
    "        \"\"\"\n",
    "        # RE-sample Validation data\n",
    "        _, __, idx_resampled = rus.fit_sample(X_val[0], y_val)\n",
    "        X_val_re = []\n",
    "        for var in X_val:\n",
    "            X_val_re.append(var[idx_resampled,])\n",
    "        \n",
    "        y_val_re = y_val[idx_resampled,]\n",
    "        \"\"\"\n",
    "        \n",
    "        return X_train_re, X_val, y_train_re, y_val\n",
    "    \n",
    "    else:\n",
    "        return X_train, X_val, y_train, y_val"
   ]
  },
  {
   "cell_type": "markdown",
   "metadata": {},
   "source": [
    "## Deep Learning model definition"
   ]
  },
  {
   "cell_type": "markdown",
   "metadata": {},
   "source": [
    "Using the popular deep learning library [Keras](https://keras.io/) with [Tensorflow](https://www.tensorflow.org/) backend, the deep learning model is defined in the following part. The *build_keras_model* function will allow for enough flexibility to build various different versions of the model and tune these hyperparameters later using some Hyperparameter-Optimization scheme."
   ]
  },
  {
   "cell_type": "code",
   "execution_count": 37,
   "metadata": {},
   "outputs": [
    {
     "name": "stderr",
     "output_type": "stream",
     "text": [
      "Using TensorFlow backend.\n"
     ]
    }
   ],
   "source": [
    "import keras\n",
    "from keras.models import Model, Sequential\n",
    "from keras.layers import Input, Embedding, Dense, Flatten\n",
    "from keras.layers.merge import add, concatenate, dot\n",
    "from keras.layers import Reshape, Dropout, BatchNormalization\n",
    "from keras.optimizers import SGD, RMSprop, Adam\n",
    "from keras import regularizers\n",
    "import keras.backend as K\n",
    "from keras import initializers\n",
    "\n",
    "def embedding_input(name,n_in,n_out,reg_lambda):\n",
    "    inp = Input(shape=(1,),dtype='int32',name = name)\n",
    "    emb = Embedding(n_in, n_out, input_length=1,name = name+\"_emb\", embeddings_regularizer=regularizers.l2(reg_lambda))(inp)\n",
    "    return inp, Flatten(name = name+\"_flatten\")(emb)\n",
    "\n",
    "def build_keras_model(cat_features, embedding_info, num_features, reg_lambda = 0., p = 0.2,activ = \"relu\",init=\"uniform\"):\n",
    "        list_of_inputs = []\n",
    "        list_of_embeddings = []\n",
    "        \n",
    "        #Build Embedding models for the categorical features\n",
    "        for feat in cat_features:\n",
    "            inps, embs = embedding_input(feat,embedding_info[feat][\"cardinality\"],embedding_info[feat][\"emb_dim\"],reg_lambda)\n",
    "            list_of_inputs.append(inps)\n",
    "            list_of_embeddings.append(embs)\n",
    "            \n",
    "        #Maybe add a bias Embedding here (With n_out = 1) and sum later when merged\n",
    "        \n",
    "        #Build Dense models for the numerical features\n",
    "        if num_features:\n",
    "            dim = len(num_features)*10\n",
    "            inps = Input(shape=(len(num_features),),name = \"contin\")\n",
    "            x = Dense(dim, activation=activ,kernel_initializer = init,name = \"contin_d\",\n",
    "                      kernel_regularizer=regularizers.l2(reg_lambda))(inps)\n",
    "            x = BatchNormalization()(x)\n",
    "            list_of_inputs.append(inps)\n",
    "            list_of_embeddings.append(x)\n",
    "        \n",
    "        #Build Dense network on top of feature encoders\n",
    "        x = concatenate(list_of_embeddings)\n",
    "        x = Dropout(p/10)(x)\n",
    "        x = Dense(2**10,activation=activ,kernel_initializer = init, kernel_regularizer=regularizers.l2(reg_lambda))(x)\n",
    "        #x = BatchNormalization()(x)\n",
    "        x = Dense(2**9,activation=activ,kernel_initializer = init, kernel_regularizer=regularizers.l2(reg_lambda))(x)\n",
    "        #x = BatchNormalization()(x)\n",
    "        x = Dropout(p)(x)\n",
    "        out = Dense(1,activation=\"sigmoid\",kernel_regularizer=regularizers.l2(reg_lambda))(x)\n",
    "        \n",
    "        model = Model(list_of_inputs,out)\n",
    "        \n",
    "        return model"
   ]
  },
  {
   "cell_type": "code",
   "execution_count": 563,
   "metadata": {
    "collapsed": true
   },
   "outputs": [],
   "source": [
    "#Save models\n",
    "from keras.utils import plot_model\n",
    "\n",
    "def save(model, model_name, model_png = True):\n",
    "    #Save model architecture picture\n",
    "    if model_png:\n",
    "        plot_model(model, to_file=model_name+'.png',show_shapes = True)\n",
    "    \n",
    "    #Save model structure\n",
    "    model_json = model.to_json()\n",
    "    with open(model_name+\".json\", \"w\") as json_file:\n",
    "        json_file.write(model_json)\n",
    "\n",
    "    #Save model weights\n",
    "    model.save_weights(model_name+\"_weights.h5\")\n",
    "    print(model_name+\" has been saved to disk.\")\n",
    "    return "
   ]
  },
  {
   "cell_type": "code",
   "execution_count": 273,
   "metadata": {
    "collapsed": true
   },
   "outputs": [],
   "source": [
    "#Calculate the scoring metrics ignoring any day where sales were 0\n",
    "def rmspe(y_pred, targ):\n",
    "    index = targ!=0.\n",
    "    targ = targ[index]\n",
    "    y_pred = y_pred.flatten()\n",
    "    y_pred = y_pred[index]\n",
    "    pct_var = (targ-y_pred)/targ\n",
    "    return np.sqrt(np.square(pct_var).mean()), np.sqrt(np.square(pct_var))\n",
    "\n",
    "def log_max_inv(preds, mx = max_log_y):\n",
    "    inverted = np.exp(preds*mx)\n",
    "    inverted[inverted==1] = 0.\n",
    "    return inverted"
   ]
  },
  {
   "cell_type": "markdown",
   "metadata": {},
   "source": [
    "## Model training & bayesian hyperparameter optimization"
   ]
  },
  {
   "cell_type": "markdown",
   "metadata": {},
   "source": [
    "The model has been defined and can now be trained. The model will be trained on 810,000 observations (approx. between 2013-01-01 and 2015-01-28), validated on 100,000 samples (approx. between 2015-01-29 and 2015-04-30) and tested on the most recent 100,000 observations (approx. between 2015-05-01 and 2015-07-31). Please note, that ideally the model should have been tested and validated on a full year of data, however, this would have required a larger data set in order to also have a sufficiently large training set."
   ]
  },
  {
   "cell_type": "code",
   "execution_count": 229,
   "metadata": {},
   "outputs": [
    {
     "name": "stdout",
     "output_type": "stream",
     "text": [
      "Number of training cases: 813769\n",
      "Number of validation cases: 101720\n",
      "Number of test cases: 101720\n"
     ]
    }
   ],
   "source": [
    "# Transform data for NN input\n",
    "dat_map, target_dat, encoding_mappings = preprocess_train(dat, cat_features, num_features, \n",
    "                                                          target, target_type = \"numeric\")\n",
    "\n",
    "X_train, X_val, X_test, y_train, y_val, y_test = train_val_split_timeseries(dat_map,target_dat, val_ratio=0.1, test_ratio=0.1,\n",
    "                                                                            train_limit = None)\n",
    "\n",
    "del dat_map, target_dat\n",
    "print( \"Number of training cases:\",y_train.shape[0])\n",
    "print( \"Number of validation cases:\",y_val.shape[0])\n",
    "print( \"Number of test cases:\",y_test.shape[0])"
   ]
  },
  {
   "cell_type": "markdown",
   "metadata": {},
   "source": [
    "Choosing the right hyperparameters for deep neural networks is almost more of an art than a science. However, properly tuning a model is crucial since the choice of free configuration parameters can make the difference between poor and superior predictive performance. In order to find a good set of hyperparemters for fitting my model I will move beyond random or grid search and use [hyperopt](https://github.com/hyperopt/hyperopt) instead, which implements Sequential Model-based Global Optimization (SMBO). These optimization schemes use a surrogate function to approximate the true blackbox function of my hyperparemeters with respect to my target evaluation metric (which in my case will be the [root mean square percentage error (rmspe)](http://www.amydotnet.com/wp-content/uploads/2015/12/equation.png) on the validation set). Having found such an approximate representation of this function, it is expected that SMBO algorithms can search more efficiently for an optimal set of hyperparameter settings compared to randomly selecting parameter choices (i.e. [Random grid search](http://scikit-learn.org/stable/modules/generated/sklearn.model_selection.RandomizedSearchCV.html#sklearn.model_selection.RandomizedSearchCV)). \n",
    "\n",
    "More specifically, I will use the [Tree of Parzen Estimators approach](http://papers.nips.cc/paper/4443-algorithms-for-hyper-parameter-optimization.pdfTree of Parzen Estimators) (TPE), which is an alternative to a Gaussian-process (GP) based approach for Bayesian optimization. I chose TPE because first, unlike GP approaches it does not have any free configuration parameters to tune and second, [Bengio et al. (2011)](http://papers.nips.cc/paper/4443-algorithms-for-hyper-parameter-optimization.pdf) could show some empirical evidence in their paper that this method slightly outperforms GP approaches. \n",
    "\n",
    "Even though, there are many more hyperparameters that could be tuned, I will only focus on the following 5 parameters:\n",
    "* learning rate\n",
    "* weight decay lambda\n",
    "* dropout probability\n",
    "* number of training epochs\n",
    "* weight initialization scheme\n",
    "\n",
    "Note that due to computational constraints I will only perform a 1-fold cross-validation (ideally this should be at least 3 or 5-fold cross-validation) to search for optimal hyperparameter settings. "
   ]
  },
  {
   "cell_type": "code",
   "execution_count": 519,
   "metadata": {
    "collapsed": true
   },
   "outputs": [],
   "source": [
    "# TPE optimizer\n",
    "from hyperopt import hp, tpe, STATUS_OK, Trials, fmin\n",
    "\n",
    "def objective(space):\n",
    "    \n",
    "    model = build_keras_model(cat_features, cat_features_info, num_features, reg_lambda = space[\"reg_lambda\"], \n",
    "                              p = space[\"dropout_p\"],\n",
    "                              activ = \"relu\",init = space[\"weight_init\"])\n",
    "\n",
    "    model.compile(optimizer=Adam(lr=np.sqrt(space[\"learning_rate\"]), beta_1=0.9, beta_2=0.999, epsilon=1e-08,decay=0.),\n",
    "                        loss='mean_absolute_error')\n",
    "    \n",
    "    earlystop = keras.callbacks.EarlyStopping(monitor='loss', min_delta=0, patience=1, mode='min')\n",
    "    \n",
    "    hist = model.fit(X_train, y_train, epochs=int(space[\"epochs\"]), batch_size=2**11,shuffle =True,\n",
    "            validation_data=(X_val,y_val),callbacks = [earlystop],\n",
    "                     verbose = 1) \n",
    "    \n",
    "    #Get evaluation metric\n",
    "    rescaled_preds = log_max_inv(model.predict(X_val))\n",
    "    rescaled_targs = log_max_inv(y_val)\n",
    "    ls,_ = rmspe(rescaled_preds,rescaled_targs)\n",
    "    \n",
    "    return{'loss':ls, 'status': STATUS_OK ,\n",
    "           \"loss_std\":np.std(hist.history[\"val_loss\"]),\n",
    "           \"loss_history\":hist,\n",
    "           \"model\":model}"
   ]
  },
  {
   "cell_type": "markdown",
   "metadata": {},
   "source": [
    "The Hyperparameter ranges were defined by random uniform distributions over a plausible set of parameter choices. As suggest by [Andrej Karpathy](https://twitter.com/karpathy) in his [CS231n class on deep learning](http://cs231n.github.io/neural-networks-3/#hyper) the parameter choices for the regularization lambda are sampled from a log scaled distribution. However, the learning rate is sampled from a [negatively skewed beta-like shaped distribution](https://i.stack.imgur.com/rLg45.png) with an upper bound of 0.001. This is because in some quick experiments the learning rate of 0.001 has proven to result in fairly good performance already (whereas everything > 0.001 has performed very poorly) and I want to provide this information to the SMBO algorithm in my prior distribution. Moreover, I want to carefully explore lower learning rates and only let the SMBO algorithm adjust my distribution towards lower learning rates if this actually results in superior performance."
   ]
  },
  {
   "cell_type": "code",
   "execution_count": 695,
   "metadata": {},
   "outputs": [
    {
     "name": "stdout",
     "output_type": "stream",
     "text": [
      "Fitting 60 models ...\n",
      "Wall time: 1d 20h 33min 46s\n"
     ]
    }
   ],
   "source": [
    "%%time\n",
    "\n",
    "print(\"Fitting 60 models ...\")\n",
    "print(\"Wall time: 1d 20h 33min 46s\")\n",
    "\n",
    "#define hyperparameter ranges\n",
    "space ={\n",
    "        'reg_lambda': hp.loguniform('reg_lambda', -100., -9),\n",
    "        'dropout_p': hp.uniform('dropout_p', 0.1, 0.6),\n",
    "        'weight_init' : hp.choice('weight_init', [\"uniform\",\"he_normal\",\"he_uniform\"]),\n",
    "        'learning_rate' : hp.uniform('learning_rate',0.0001**2,0.001**2),\n",
    "        'epochs' : hp.quniform(\"epochs\", 8, 25, 1)\n",
    "    }\n",
    "\n",
    "\n",
    "trials = Trials()\n",
    "best = fmin(fn=objective,\n",
    "            space=space,\n",
    "            algo=tpe.suggest, #Tree of Parzen Estimators\n",
    "            max_evals=60, # change\n",
    "            trials=trials,verbose=0)"
   ]
  },
  {
   "cell_type": "code",
   "execution_count": 521,
   "metadata": {},
   "outputs": [
    {
     "name": "stdout",
     "output_type": "stream",
     "text": [
      "Best model parameters:\n",
      "{'weight_init': 0, 'epochs': 25.0, 'reg_lambda': 5.025025194920846e-24, 'dropout_p': 0.20560490830757025, 'learning_rate': 9.072318507600571e-07}\n"
     ]
    }
   ],
   "source": [
    "print(\"Best model parameters:\")\n",
    "print(best)"
   ]
  },
  {
   "cell_type": "code",
   "execution_count": 570,
   "metadata": {
    "collapsed": true
   },
   "outputs": [],
   "source": [
    "#Get all results\n",
    "res = trials.results\n",
    "\n",
    "# Get all parameter choices\n",
    "params = trials.vals\n",
    "losses = np.array(trials.losses()) # Validation RMSPE"
   ]
  },
  {
   "cell_type": "code",
   "execution_count": 700,
   "metadata": {},
   "outputs": [
    {
     "name": "stdout",
     "output_type": "stream",
     "text": [
      "\n"
     ]
    }
   ],
   "source": [
    "#Save\n",
    "from master_utils import save_pickle\n",
    "\n",
    "save_pickle(\"hyperopt_models/params\",params)\n",
    "save_pickle(\"hyperopt_models/losses\",losses)\n",
    "\n",
    "# Save top_n models including the loss history\n",
    "top_n = 10\n",
    "idx = np.argsort(losses)[0:top_n]\n",
    "model_list = [res[i][\"model\"] for i in idx]\n",
    "\n",
    "for i, m in enumerate(model_list):\n",
    "    save(m, \"hyperopt_models/hyper_model\"+str(idx[i]),model_png = False)"
   ]
  },
  {
   "cell_type": "code",
   "execution_count": 567,
   "metadata": {},
   "outputs": [
    {
     "data": {
      "text/plain": [
       "{'loss': 0.18156076940610902,\n",
       " 'loss_history': <keras.callbacks.History at 0x25348e77cc0>,\n",
       " 'loss_std': 0.014403658628578812,\n",
       " 'model': <keras.engine.training.Model at 0x25348e56d68>,\n",
       " 'status': 'ok'}"
      ]
     },
     "execution_count": 567,
     "metadata": {},
     "output_type": "execute_result"
    }
   ],
   "source": [
    "best_idx = np.argmin(trials.losses())\n",
    "best_model = res[np.argmin(trials.losses())][\"model\"]\n",
    "best_params = [{e:params[e][best_idx]} for e in params]\n",
    "res[np.argmin(trials.losses())]"
   ]
  },
  {
   "cell_type": "markdown",
   "metadata": {},
   "source": [
    "After running the search algorithm for 60 iterations with 60 different hyperparameter settings on my (admittedly very weak but cheap) local machine, the best performing model achieved a RMSPE of 0.1815."
   ]
  },
  {
   "cell_type": "code",
   "execution_count": 592,
   "metadata": {},
   "outputs": [
    {
     "data": {
      "image/png": "[encoded data removed]",
      "text/plain": [
       "<matplotlib.figure.Figure at 0x1c7e085ee48>"
      ]
     },
     "metadata": {},
     "output_type": "display_data"
    }
   ],
   "source": [
    "#Plot loss history\n",
    "hist = res[np.argmin(losses)][\"loss_history\"]\n",
    "plt.plot(hist.history[\"loss\"][1:],label = \"training\")\n",
    "plt.plot(hist.history[\"val_loss\"][1:],label = \"validation\")\n",
    "plt.title(\"Learning curve of best performing model\")\n",
    "plt.legend()\n",
    "plt.show()"
   ]
  },
  {
   "cell_type": "markdown",
   "metadata": {},
   "source": [
    "In the graph above, I plotted the learning curve of the best model and one can quickly see that the model is likely to overfit the data, which is why I will perform model ensembling in the next section in order to improve generalization."
   ]
  },
  {
   "cell_type": "markdown",
   "metadata": {},
   "source": [
    "## Model ensembling"
   ]
  },
  {
   "cell_type": "markdown",
   "metadata": {},
   "source": [
    "[Model ensembling](https://en.wikipedia.org/wiki/Ensemble_learning) is a very powerful technique to increase accuracy on a variety of Machine Learning tasks. There are [various options](https://mlwave.com/kaggle-ensembling-guide/) to increase performance by combining different models to generate the final predictions. On the one hand there are simple but effective techniques such as averaging or voting, which do not require any retraining of models. Averaging works well for a wide range of problems and metrics. There is not much more to averaging than taking the mean of individual model predictions, which often reduces overfit. On the other hand, there are methods such as stacking and blending, where the basic idea is to use a pool of base models, then use another model to combine their predictions, with the aim of reducing the generalization error. However, these methods are more expensive to perform since they require retraining of the base models on k-folds of the training data.\n",
    "\n",
    "Due to computational constraints on my local machine, I will use a simple averaging method. The final predictions will be generated by the 10 best performing models found during my optimization scheme above."
   ]
  },
  {
   "cell_type": "code",
   "execution_count": 586,
   "metadata": {
    "collapsed": true
   },
   "outputs": [],
   "source": [
    "def ensemble_predict(model_list, X):\n",
    "    y_preds = []\n",
    "    for est in model_list:\n",
    "        y_preds.append(est.predict(X).flatten())\n",
    "    return np.mean( np.array(y_preds), axis=0 )"
   ]
  },
  {
   "cell_type": "code",
   "execution_count": 587,
   "metadata": {
    "collapsed": true
   },
   "outputs": [],
   "source": [
    "top_n = 10\n",
    "idx = np.argsort(losses)[0:top_n]\n",
    "model_list = [res[i][\"model\"] for i in idx]\n",
    "\n",
    "#model_list = [model0,model1,model3]\n",
    "preds = ensemble_predict(model_list, X_test)"
   ]
  },
  {
   "cell_type": "code",
   "execution_count": 588,
   "metadata": {
    "collapsed": true
   },
   "outputs": [],
   "source": [
    "ens_preds = log_max_inv(preds)\n",
    "rescaled_targs = log_max_inv(y_test)\n",
    "pred_df = pd.DataFrame({'preds':ens_preds.round(), 'y_true':rescaled_targs.round()})"
   ]
  },
  {
   "cell_type": "markdown",
   "metadata": {},
   "source": [
    "## Evaluate performance & error analysis"
   ]
  },
  {
   "cell_type": "markdown",
   "metadata": {},
   "source": [
    "In order to have a relatively reliable estimate of the \"true\" predictive capabilities of the final models, their performance has to be measured against an out-of-sample test set (i.e. holdout set for the period between 2015-05-01 and 2015-07-31). As already mentioned above the target metric to measure performance will be RMSPE."
   ]
  },
  {
   "cell_type": "code",
   "execution_count": 595,
   "metadata": {},
   "outputs": [
    {
     "name": "stdout",
     "output_type": "stream",
     "text": [
      "RMSPE of a simple linear regression model as baseline:  0.4098\n"
     ]
    }
   ],
   "source": [
    "from sklearn.linear_model import LinearRegression\n",
    "from sklearn.model_selection import train_test_split\n",
    "\n",
    "# Encode categorical features (Usually one would do one-hot or dummy encoding, but as a benchmark labelencode is sufficient)\n",
    "# Numerical features are also not scaled, since this is relevant to OLS regression performance\n",
    "cat_maps = [(o, LabelEncoder()) for o in cat_features]\n",
    "cat_mapper = DataFrameMapper(cat_maps)\n",
    "cat_dat = cat_mapper.fit_transform(dat)\n",
    "X = np.hstack([cat_dat, dat[num_features].as_matrix()])\n",
    "\n",
    "_, feat_train, __, targ_train = train_test_split(X, dat[target].as_matrix(), \n",
    "                                                    test_size=0.8, shuffle = False) \n",
    "baseline = LinearRegression()\n",
    "baseline.fit(feat_train,targ_train)\n",
    "\n",
    "feat_test, _, targ_test, __= train_test_split(X, dat[target].as_matrix(), \n",
    "                                                    test_size=0.9, shuffle = False)\n",
    "preds = baseline.predict(feat_test)\n",
    "acc, deviations = rmspe(log_max_inv(preds),log_max_inv(targ_test))\n",
    "print(\"RMSPE of a simple linear regression model as baseline: \",round(acc,4))\n",
    "\n",
    "del X,feat_train,targ_train,feat_test,targ_test,_,__"
   ]
  },
  {
   "cell_type": "code",
   "execution_count": 591,
   "metadata": {},
   "outputs": [
    {
     "name": "stdout",
     "output_type": "stream",
     "text": [
      "RMSPE of strongest individual model:  0.1496\n"
     ]
    }
   ],
   "source": [
    "preds = best_model.predict(X_test).flatten()\n",
    "single_preds = log_max_inv(preds)\n",
    "\n",
    "acc, deviations = rmspe(single_preds,rescaled_targs)\n",
    "print(\"RMSPE of strongest individual model: \",round(acc,4))"
   ]
  },
  {
   "cell_type": "code",
   "execution_count": 590,
   "metadata": {},
   "outputs": [
    {
     "name": "stdout",
     "output_type": "stream",
     "text": [
      "RMSPE of ensemble model:  0.1373\n"
     ]
    }
   ],
   "source": [
    "acc, deviations = rmspe(ens_preds,rescaled_targs)\n",
    "print(\"RMSPE of ensemble model: \",round(acc,4))"
   ]
  },
  {
   "cell_type": "markdown",
   "metadata": {},
   "source": [
    "Serving as a simple baseline benchmark an additional linear regression model was trained. Looking at the results output above the linear model over- or underestimates the actual store sales by 41% on average. The rather poor performance of the linear model is not surprising due to its simplified assumption of linear relationships. The deep learning model that performed best after the optimization of hyperparameters achieves a much better performance of only 15% average forecasting error. Also as expected the ensemble of 10 deep learning models could boost the performance even further and achieve a **final forecasting error of only 13.73 %!**"
   ]
  },
  {
   "cell_type": "code",
   "execution_count": 608,
   "metadata": {},
   "outputs": [],
   "source": [
    "#Get test dataframe\n",
    "test_idx = list(pred_df.index)\n",
    "test_dat = dat.iloc[test_idx,:]"
   ]
  },
  {
   "cell_type": "code",
   "execution_count": 621,
   "metadata": {},
   "outputs": [],
   "source": [
    "#join predictions with additional data\n",
    "test_dat = test_dat.reset_index()\n",
    "test_dat = test_dat[[\"Date\",\"Store\", \"DayOfWeek\", 'StateName']]"
   ]
  },
  {
   "cell_type": "code",
   "execution_count": 645,
   "metadata": {},
   "outputs": [],
   "source": [
    "p = pred_df.join(test_dat)\n",
    "p[\"err\"] = np.abs(p.preds-p.y_true)"
   ]
  },
  {
   "cell_type": "code",
   "execution_count": 644,
   "metadata": {},
   "outputs": [
    {
     "data": {
      "image/png": "[encoded data removed]",
      "text/plain": [
       "<matplotlib.figure.Figure at 0x253815fd668>"
      ]
     },
     "metadata": {},
     "output_type": "display_data"
    }
   ],
   "source": [
    "#Plot 10 day forecast and actuals for a particular store\n",
    "#Plot loss history\n",
    "p.index = p.Date\n",
    "store_id = 958\n",
    "sales_predictions = p.loc[(p[\"Store\"]==store_id) & (p[\"y_true\"]!=0),\"preds\"]\n",
    "actual_sales = p.loc[(p[\"Store\"]==store_id) & (p[\"y_true\"]!=0),\"y_true\"]\n",
    "\n",
    "plt.figure(figsize=(14,10))\n",
    "plt.plot(sales_predictions,label = \"Predicted Sales\", linestyle = '--')\n",
    "plt.plot(actual_sales,label = \"Actual Sales\")\n",
    "plt.title(\"Model performance for Store No.\" + str(store_id))\n",
    "plt.ylabel(\"Store Sales\")\n",
    "plt.legend()\n",
    "plt.show()"
   ]
  },
  {
   "cell_type": "markdown",
   "metadata": {},
   "source": [
    "The plot above proves that for many stores in the hold-out set, the model actually achieves a very good forecasting performance!"
   ]
  },
  {
   "cell_type": "markdown",
   "metadata": {},
   "source": [
    "### Error analysis"
   ]
  },
  {
   "cell_type": "markdown",
   "metadata": {},
   "source": [
    "Even though, the model has achieved a fairly decent performance, I still want to emphasize the fact that forecasting the future is a very hard challenge. There is no forecasting model that is perfect and therefore, it is crucial to understand a models limitations in particular, when it is being deployed for business critical tasks. Thus, I will highlight some particularly strong and strange forecasting erros belows."
   ]
  },
  {
   "cell_type": "code",
   "execution_count": 647,
   "metadata": {},
   "outputs": [
    {
     "data": {
      "text/html": [
       "<div>\n",
       "<style>\n",
       "    .dataframe thead tr:only-child th {\n",
       "        text-align: right;\n",
       "    }\n",
       "\n",
       "    .dataframe thead th {\n",
       "        text-align: left;\n",
       "    }\n",
       "\n",
       "    .dataframe tbody tr th {\n",
       "        vertical-align: top;\n",
       "    }\n",
       "</style>\n",
       "<table border=\"1\" class=\"dataframe\">\n",
       "  <thead>\n",
       "    <tr style=\"text-align: right;\">\n",
       "      <th></th>\n",
       "      <th>preds</th>\n",
       "      <th>y_true</th>\n",
       "    </tr>\n",
       "  </thead>\n",
       "  <tbody>\n",
       "    <tr>\n",
       "      <th>86825</th>\n",
       "      <td>6550.0</td>\n",
       "      <td>0.0</td>\n",
       "    </tr>\n",
       "  </tbody>\n",
       "</table>\n",
       "</div>"
      ],
      "text/plain": [
       "        preds  y_true\n",
       "86825  6550.0     0.0"
      ]
     },
     "execution_count": 647,
     "metadata": {},
     "output_type": "execute_result"
    }
   ],
   "source": [
    "pred_df[(pred_df[\"y_true\"]==0.)&(pred_df[\"preds\"]>2.)]"
   ]
  },
  {
   "cell_type": "code",
   "execution_count": 648,
   "metadata": {
    "scrolled": true
   },
   "outputs": [
    {
     "data": {
      "text/plain": [
       "Store        971\n",
       "DayOfWeek      5\n",
       "Sales          0\n",
       "Customers      0\n",
       "Open           1\n",
       "Name: 2015-05-15 00:00:00, dtype: object"
      ]
     },
     "execution_count": 648,
     "metadata": {},
     "output_type": "execute_result"
    }
   ],
   "source": [
    "dat.iloc[86825,:5]"
   ]
  },
  {
   "cell_type": "markdown",
   "metadata": {},
   "source": [
    "Above, we can see the only case where the model predicted 6550 of sales even though there were no actual sales on that day in that particular store. However, this seems to be a strange case because when looking at some of the information for that day, we can quickly see that this store was actually open on that weekday. Hence, it is hard to believe that there was not a single sale. Therefore, I can only assume that this might be a data quality issue."
   ]
  },
  {
   "cell_type": "code",
   "execution_count": 649,
   "metadata": {},
   "outputs": [],
   "source": [
    "#Inspect the model errors and strengths\n",
    "def get_worst_errors(preds, y_true, n = 10):\n",
    "    idx = np.argsort(np.sqrt(np.square(preds-y_true)))\n",
    "    idx = idx[::-1]\n",
    "    idx = idx[0:n]\n",
    "    return idx, pd.DataFrame({'preds':preds[idx].round(), 'y_true':y_true[idx].round()})"
   ]
  },
  {
   "cell_type": "code",
   "execution_count": 650,
   "metadata": {
    "scrolled": true
   },
   "outputs": [
    {
     "data": {
      "text/html": [
       "<div>\n",
       "<style>\n",
       "    .dataframe thead tr:only-child th {\n",
       "        text-align: right;\n",
       "    }\n",
       "\n",
       "    .dataframe thead th {\n",
       "        text-align: left;\n",
       "    }\n",
       "\n",
       "    .dataframe tbody tr th {\n",
       "        vertical-align: top;\n",
       "    }\n",
       "</style>\n",
       "<table border=\"1\" class=\"dataframe\">\n",
       "  <thead>\n",
       "    <tr style=\"text-align: right;\">\n",
       "      <th></th>\n",
       "      <th>preds</th>\n",
       "      <th>y_true</th>\n",
       "    </tr>\n",
       "  </thead>\n",
       "  <tbody>\n",
       "    <tr>\n",
       "      <th>0</th>\n",
       "      <td>9154.0</td>\n",
       "      <td>41551.0</td>\n",
       "    </tr>\n",
       "    <tr>\n",
       "      <th>1</th>\n",
       "      <td>9043.0</td>\n",
       "      <td>30038.0</td>\n",
       "    </tr>\n",
       "    <tr>\n",
       "      <th>2</th>\n",
       "      <td>8308.0</td>\n",
       "      <td>29161.0</td>\n",
       "    </tr>\n",
       "    <tr>\n",
       "      <th>3</th>\n",
       "      <td>19897.0</td>\n",
       "      <td>38367.0</td>\n",
       "    </tr>\n",
       "    <tr>\n",
       "      <th>4</th>\n",
       "      <td>9287.0</td>\n",
       "      <td>27330.0</td>\n",
       "    </tr>\n",
       "    <tr>\n",
       "      <th>5</th>\n",
       "      <td>8251.0</td>\n",
       "      <td>23584.0</td>\n",
       "    </tr>\n",
       "    <tr>\n",
       "      <th>6</th>\n",
       "      <td>9495.0</td>\n",
       "      <td>23927.0</td>\n",
       "    </tr>\n",
       "    <tr>\n",
       "      <th>7</th>\n",
       "      <td>20783.0</td>\n",
       "      <td>35159.0</td>\n",
       "    </tr>\n",
       "    <tr>\n",
       "      <th>8</th>\n",
       "      <td>8976.0</td>\n",
       "      <td>22882.0</td>\n",
       "    </tr>\n",
       "    <tr>\n",
       "      <th>9</th>\n",
       "      <td>9637.0</td>\n",
       "      <td>23081.0</td>\n",
       "    </tr>\n",
       "  </tbody>\n",
       "</table>\n",
       "</div>"
      ],
      "text/plain": [
       "     preds   y_true\n",
       "0   9154.0  41551.0\n",
       "1   9043.0  30038.0\n",
       "2   8308.0  29161.0\n",
       "3  19897.0  38367.0\n",
       "4   9287.0  27330.0\n",
       "5   8251.0  23584.0\n",
       "6   9495.0  23927.0\n",
       "7  20783.0  35159.0\n",
       "8   8976.0  22882.0\n",
       "9   9637.0  23081.0"
      ]
     },
     "execution_count": 650,
     "metadata": {},
     "output_type": "execute_result"
    }
   ],
   "source": [
    "worst_idx,preds_df = get_worst_errors(rescaled_preds,rescaled_targs,n=10)\n",
    "preds_df"
   ]
  },
  {
   "cell_type": "markdown",
   "metadata": {},
   "source": [
    "Moreover, I looked at the 10 worst prediction errors above and clearly, in some rare cases the model drastically underestimates the actual sales. Subsequently, I got curious for which store ids, day of week and state the model has the largest trouble to come up with good sales forecasts."
   ]
  },
  {
   "cell_type": "code",
   "execution_count": 686,
   "metadata": {},
   "outputs": [
    {
     "name": "stdout",
     "output_type": "stream",
     "text": [
      "Worst mean forecasting performance:\n",
      "\n",
      "Store : 91,  0.5155\n",
      "DayOfWeek : 7,  0.1309\n",
      "StateName : Bayern,  0.1119\n"
     ]
    }
   ],
   "source": [
    "#Plot RMSPE grouped by Store Id, day of week and state\n",
    "p[\"rmspe\"] = np.sqrt(np.square((p.preds-p.y_true)/p.y_true))\n",
    "\n",
    "print(\"Worst mean forecasting performance:\")\n",
    "print()\n",
    "for dim in [\"Store\",\"DayOfWeek\",'StateName']:\n",
    "    d = p.loc[p.y_true>0.,:].groupby(dim).mean().sort_values(\"rmspe\",ascending = False).iloc[0]\n",
    "    print(dim,\":\",str(d.name)+\", \",round(d[\"rmspe\"],4))"
   ]
  },
  {
   "cell_type": "markdown",
   "metadata": {},
   "source": [
    "The output above shows that especially for store 91, Sunday and Bavaria, the model has a harder time to come up with accurate sales predictions than for the other classes. Therefore, I could clearly identify some weaknesses of the forecasting model and by digging deeper into the special circumstances of store 91 for instance I could potentially further improve the model by engineering additional features or collecting more data."
   ]
  },
  {
   "cell_type": "markdown",
   "metadata": {},
   "source": [
    "## Visualize learned Entity Embeddings"
   ]
  },
  {
   "cell_type": "markdown",
   "metadata": {},
   "source": [
    "As the neural network architecture is inspired by word embeddings, which encode [semantic meaning in their distributed representation](https://www.technologyreview.com/s/541356/king-man-woman-queen-the-marvelous-mathematics-of-computational-linguistics/), we can better understand what actual patterns the model learned by looking at its weights in greater detail.\n",
    "\n",
    "Put differently, while learning to predict store sales the model has learned to map the discrete category features in a continuous space in which the distance between different \"category points\" reflects the similarity of the categories regarding their effect on store sales. To get an intuitive idea about the learned entity embeddings, I used t-SNE to map the high dimensional embeddings into a visualizable 2D figure. Below you can see the \"sales similarity\" between German states. The closer the points in the figure, the more similar they are."
   ]
  },
  {
   "cell_type": "code",
   "execution_count": 691,
   "metadata": {
    "collapsed": true
   },
   "outputs": [],
   "source": [
    "from sklearn.manifold import TSNE\n",
    "from sklearn.decomposition import PCA\n",
    "\n",
    "def plot_entity_embeddings(model, feature_name, cat_features, encoding_mappings, figsize = (5,5), fontsize=12,random_state=None):\n",
    "    \n",
    "    idx = cat_features.index(feature_name)\n",
    "    weight_matrix =model.get_weights()[idx]\n",
    "    codes = encoding_mappings[feature_name]\n",
    "    codes = {v: k for k, v in codes.items()} #Invert dictionary\n",
    "    names = []\n",
    "    print(\"Embeddings shape: \",weight_matrix.shape)\n",
    "    \n",
    "    for i in range(len(codes)):\n",
    "        names.append(codes[i])\n",
    "\n",
    "    if weight_matrix.shape[1]>2:\n",
    "        #dim = TSNE(n_components = weight_matrix.shape[1], init='pca', method='exact',random_state=random_state)\n",
    "        dim = PCA(random_state = random_state)\n",
    "        W_embedded = dim.fit_transform(weight_matrix)\n",
    "        y=-W_embedded[:,1]\n",
    "        z=-W_embedded[:,0]\n",
    "    else:\n",
    "        y=weight_matrix[:,0]\n",
    "        z=weight_matrix[:,1]\n",
    "       \n",
    "    #fig, ax = plt.subplots()\n",
    "    plt.figure(figsize=figsize) \n",
    "    plt.scatter(z*-1.,y*-1.)\n",
    "    eps_y = 0.01*y.max()\n",
    "    eps_z = 0.01*z.max()\n",
    "\n",
    "    for i, txt in enumerate(names):\n",
    "        plt.annotate(txt, (z[i]*-1.+eps_z,y[i]*-1.)+eps_y,fontsize=fontsize)\n",
    "    \n",
    "    return plt"
   ]
  },
  {
   "cell_type": "code",
   "execution_count": 692,
   "metadata": {},
   "outputs": [
    {
     "name": "stdout",
     "output_type": "stream",
     "text": [
      "Embeddings shape:  (12, 6)\n"
     ]
    },
    {
     "data": {
      "image/png": "[encoded data removed]",
      "text/plain": [
       "<matplotlib.figure.Figure at 0x253858bf710>"
      ]
     },
     "metadata": {},
     "output_type": "display_data"
    }
   ],
   "source": [
    "plt = plot_entity_embeddings(best_model, 'StateName', cat_features, encoding_mappings, figsize = (7,7), fontsize=13, \n",
    "                             random_state = 0)\n",
    "plt.show()"
   ]
  },
  {
   "cell_type": "markdown",
   "metadata": {},
   "source": [
    "Though the algorithm does not know anything about German geography and society, the relative positions on the learned embedding of German states resemble that on the below map reasonably well!"
   ]
  },
  {
   "cell_type": "markdown",
   "metadata": {},
   "source": [
    "![](http://5047-presscdn.pagely.netdna-cdn.com/wp-content/uploads/2016/01/German_States.png)"
   ]
  },
  {
   "cell_type": "markdown",
   "metadata": {},
   "source": [
    "The reason is that the learned embedding puts states with similar distribution of features, i.e. similar economical and cultural environments, close to each other, while at the same time two geographically neighboring states are likely sharing similar economy and culture. Especially, the three states on the right cluster, namely \"Sachsen\", \"Thueringen\" and \"SachsenAnhalt\" are all from eastern Germany while states in the left cluster are from western Germany. This shows the effectiveness of entity embeddings and their likely contribution to superior predictive performance."
   ]
  }
 ],
 "metadata": {
  "kernelspec": {
   "display_name": "Python 3",
   "language": "python",
   "name": "python3"
  },
  "language_info": {
   "codemirror_mode": {
    "name": "ipython",
    "version": 3
   },
   "file_extension": ".py",
   "mimetype": "text/x-python",
   "name": "python",
   "nbconvert_exporter": "python",
   "pygments_lexer": "ipython3",
   "version": "3.5.3"
  }
 },
 "nbformat": 4,
 "nbformat_minor": 2
}
